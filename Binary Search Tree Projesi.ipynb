{
 "cells": [
  {
   "cell_type": "markdown",
   "id": "e3a50ffe",
   "metadata": {},
   "source": [
    "Proje 3\n",
    "[7, 5, 1, 8, 3, 6, 0, 9, 4, 2] dizisinin Binary-Search-Tree aşamalarını yazınız.\n",
    "\n",
    "Örnek: root x'dir. root'un sağından y bulunur. Solunda z bulunur vb.\n",
    "\n",
    "    Cevap :\n",
    "    \n",
    "                      7                           --> root 7'dir. 7 ile başlanır.\n",
    "                  \n",
    "                 5         8                      --> Sağında 5 vardır. 7'den küçük olduğu için 7'nin soluna yazılır.\n",
    "               \n",
    "             1       6          9                 --> 5'in yanında 1 vardır. 5'ten küçük olduğu için 5'in soluna yazılır.\n",
    "           \n",
    "          0     3                                 --> 1'in yanında 8 vardır. 7'den büyük olduğu için 7'nin sağına yazılır.\n",
    "                   \n",
    "              2    4                              --> 8'in yanında 3 vardır. 1'den büyük olduğu için 1'in sağına yazılır.\n",
    "            \n",
    "                                                  --> 3'ün yanında 6 vardır. 5'ten büyük olduğu için 5'in sağına yazılır.\n",
    "                                                  \n",
    "                                                  --> 6'nın yanında 0 vardır. 1'den küçük olduğu için 1'in soluna yazılır.\n",
    "                                                  \n",
    "                                                  --> 0'ın yanında 9 vardır. 8'den büyük olduğu için 8'in sağına yazılır.\n",
    "                                                  \n",
    "                                                  --> 9'un yanında 4 vardır. 3'ten büyük olduğu için 3'ün sağına yazılır.\n",
    "                                                  \n",
    "                                                  --> 4'ün yanında 2 vardır. 3'ten küçük olduğu için 3'ün soluna yazılır. "
   ]
  }
 ],
 "metadata": {
  "kernelspec": {
   "display_name": "Python 3 (ipykernel)",
   "language": "python",
   "name": "python3"
  },
  "language_info": {
   "codemirror_mode": {
    "name": "ipython",
    "version": 3
   },
   "file_extension": ".py",
   "mimetype": "text/x-python",
   "name": "python",
   "nbconvert_exporter": "python",
   "pygments_lexer": "ipython3",
   "version": "3.9.12"
  }
 },
 "nbformat": 4,
 "nbformat_minor": 5
}
